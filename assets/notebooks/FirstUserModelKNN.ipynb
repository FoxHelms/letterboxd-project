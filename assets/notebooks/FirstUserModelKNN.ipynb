{
 "cells": [
  {
   "cell_type": "code",
   "execution_count": 1,
   "id": "658a6e9f-9eaf-4cdb-b9d6-01c85952e8b9",
   "metadata": {},
   "outputs": [],
   "source": [
    "import pandas as pd\n",
    "import numpy as np\n",
    "import random\n",
    "from sklearn.model_selection import train_test_split\n",
    "from sklearn.neighbors import KNeighborsClassifier\n",
    "from sklearn.metrics import classification_report\n",
    "from sklearn.preprocessing import StandardScaler\n",
    "import torch\n",
    "import torch.nn as nn\n",
    "import torch.nn.functional as F\n",
    "import matplotlib.pyplot as plt\n",
    "%matplotlib inline"
   ]
  },
  {
   "cell_type": "code",
   "execution_count": 2,
   "id": "f70743b4-e2e4-4b30-bc58-9c81f5a2f0a9",
   "metadata": {},
   "outputs": [],
   "source": [
    "class Model(nn.Module):\n",
    "    def __init__(self, in_features = 28, h1 = 8, h2 = 9, out_features = 2):\n",
    "        super().__init__()\n",
    "        self.fc1 = nn.Linear(in_features, h1)\n",
    "        self.fc2 = nn.Linear(h1, h2)\n",
    "        self.out = nn.Linear(h2, out_features)\n",
    "\n",
    "    def forward(self, x):\n",
    "        x = F.relu(self.fc1(x))\n",
    "        x = F.relu(self.fc2(x))\n",
    "        x = self.out(x)\n",
    "\n",
    "        return x"
   ]
  },
  {
   "cell_type": "code",
   "execution_count": 3,
   "id": "879aae96-4085-4222-95fd-260db0fb6bcb",
   "metadata": {},
   "outputs": [],
   "source": [
    "df_filipe = pd.read_csv('filipe_films_pandas.csv')\n",
    "df_letterboxd_dump = pd.read_csv('letterboxd_db_pandas.csv')"
   ]
  },
  {
   "cell_type": "code",
   "execution_count": 4,
   "id": "8ba9f2cc-538e-4de3-9a49-3c251992f301",
   "metadata": {},
   "outputs": [
    {
     "name": "stdout",
     "output_type": "stream",
     "text": [
      "<class 'pandas.core.frame.DataFrame'>\n"
     ]
    }
   ],
   "source": [
    "df_filipe = df_filipe.drop_duplicates(subset = ['letterboxdId'])\n",
    "df_letterboxd_dump = df_letterboxd_dump.drop_duplicates(subset = ['letterboxdId'])\n",
    "filipe_films_set = set(df_filipe['letterboxdId'])\n",
    "filipe_films_set\n",
    "print(type(df_letterboxd_dump))\n",
    "# df_letterboxd_dump.head()"
   ]
  },
  {
   "cell_type": "code",
   "execution_count": 5,
   "id": "9654edd3-3a34-4a3c-b8a0-0d7c052b23dd",
   "metadata": {},
   "outputs": [
    {
     "data": {
      "text/plain": [
       "(11105, 18)"
      ]
     },
     "execution_count": 5,
     "metadata": {},
     "output_type": "execute_result"
    }
   ],
   "source": [
    "# I'm dropping all the films from filipe's set.\n",
    "df_letterboxd_dump.shape\n",
    "for film in filipe_films_set:\n",
    "   df_letterboxd_dump.drop(df_letterboxd_dump.loc[df_letterboxd_dump['letterboxdId'] == film].index, inplace=True)\n",
    "df_letterboxd_dump.shape"
   ]
  },
  {
   "cell_type": "code",
   "execution_count": 6,
   "id": "b1aeabed-a674-44a0-9494-ad7173cf5df8",
   "metadata": {},
   "outputs": [
    {
     "data": {
      "text/plain": [
       "(18733, 18)"
      ]
     },
     "execution_count": 6,
     "metadata": {},
     "output_type": "execute_result"
    }
   ],
   "source": [
    "# combining them\n",
    "df_combined = pd.concat([df_filipe, df_letterboxd_dump])\n",
    "df_combined.shape"
   ]
  },
  {
   "cell_type": "code",
   "execution_count": 7,
   "id": "db8d9277-cff0-47c6-8a73-d87dba44f94e",
   "metadata": {},
   "outputs": [],
   "source": [
    "# check to make sure they're combined\n",
    "# j = random.randint(0,18732)\n",
    "# print(df_combined.iloc[j])"
   ]
  },
  {
   "cell_type": "code",
   "execution_count": 8,
   "id": "b04fe988-9507-46d5-acc5-4ecb22ea7a14",
   "metadata": {},
   "outputs": [
    {
     "data": {
      "text/plain": [
       "(15785, 18)"
      ]
     },
     "execution_count": 8,
     "metadata": {},
     "output_type": "execute_result"
    }
   ],
   "source": [
    "# more cleaning\n",
    "df_combined = df_combined[df_combined['averageRating'] != 0]\n",
    "df_combined = df_combined[df_combined['runtime'] != 0]\n",
    "df_combined = df_combined[df_combined['watchedCount'] != 0]\n",
    "df_combined = df_combined[df_combined['fansCount'] != 0]\n",
    "df_combined = df_combined[df_combined['likesCount'] != 0]\n",
    "df_combined = df_combined[df_combined['reviewsCount'] != 0]\n",
    "df_combined = df_combined[df_combined['listsCount'] != 0]\n",
    "# df_combined = df_combined[df_combined['tagline'] != 'No tagline found']\n",
    "# df_combined = df_combined[df_combined['themes'] != 'No themes found']\n",
    "df_combined.shape"
   ]
  },
  {
   "cell_type": "code",
   "execution_count": 9,
   "id": "fd6bb041-43f4-410f-a5dc-167b382232de",
   "metadata": {},
   "outputs": [],
   "source": [
    "# add new rows for each genre\n",
    "# you need to create new columns, one for each genre\n",
    "# you need to loop through each row in the dataframe and turn each value to zero or one based on if its genre is in the genre array\n",
    "# you need to drop the genre column\n",
    "df_combined['Action'] = 0\n",
    "df_combined['Adventure'] = 0\n",
    "df_combined['Animation'] = 0\n",
    "df_combined['Comedy'] = 0\n",
    "df_combined['Crime'] = 0\n",
    "df_combined['Documentary'] = 0\n",
    "df_combined['Drama'] = 0\n",
    "df_combined['Family'] = 0\n",
    "df_combined['Fantasy'] = 0\n",
    "df_combined['History'] = 0\n",
    "df_combined['Horror'] = 0\n",
    "df_combined['Music'] = 0\n",
    "df_combined['Mystery'] = 0\n",
    "df_combined['Romance'] = 0\n",
    "df_combined['ScienceFiction'] = 0\n",
    "df_combined['Thriller'] = 0\n",
    "df_combined['TVMovie'] = 0\n",
    "df_combined['War'] = 0\n",
    "df_combined['Western'] = 0\n",
    "df_combined['Unknown'] = 0\n",
    "df_combined.shape\n",
    "\n",
    "for index, row in df_combined.iterrows():\n",
    "    for genre in row['genre'].strip('{}').split(','):\n",
    "        df_combined.at[index, genre] = 1"
   ]
  },
  {
   "cell_type": "code",
   "execution_count": 10,
   "id": "efc59587-1bd3-49b6-940e-4821f3b2a4e9",
   "metadata": {},
   "outputs": [],
   "source": [
    "# remove unncessesary features dataset\n",
    "df_combined = df_combined.drop(columns = ['id','name','letterboxdId','created','updated','themes','tagline','fullSummary', 'genre'])\n",
    "df_combined = df_combined.drop(df_combined.columns[-1], axis=1)\n",
    "\n",
    "# standardize values\n",
    "scaler = StandardScaler()\n",
    "df_standardized = scaler.fit_transform(df_combined)\n",
    "df_standardized = pd.DataFrame(df_standardized, columns=df_combined.columns)\n",
    "\n",
    "X = df_standardized.drop(columns = ['filipeHasWatched'])\n",
    "\n",
    "y = df_combined['filipeHasWatched']\n",
    "# convert to numpy arrays\n",
    "X = X.values\n",
    "y = y.values\n",
    "X_train, X_test, y_train, y_test = train_test_split(X, y, random_state=11, test_size=0.2)"
   ]
  },
  {
   "cell_type": "code",
   "execution_count": 11,
   "id": "b38a1212-a41c-4c26-acc0-672adbe12bad",
   "metadata": {},
   "outputs": [],
   "source": [
    "# Instantiate model stuff here\n",
    "torch.manual_seed(41)\n",
    "# model = Model()\n",
    "X_train = torch.FloatTensor(X_train)\n",
    "X_test = torch.FloatTensor(X_test)\n",
    "y_train = torch.LongTensor(y_train)\n",
    "y_test = torch.LongTensor(y_test)\n",
    "# criterion = nn.CrossEntropyLoss()\n",
    "# optimizer = torch.optim.Adam(model.parameters(), lr = 0.001)"
   ]
  },
  {
   "cell_type": "code",
   "execution_count": 12,
   "id": "12417e41-989c-41c7-8a41-a1c678d275ae",
   "metadata": {},
   "outputs": [
    {
     "name": "stderr",
     "output_type": "stream",
     "text": [
      "/Library/Frameworks/Python.framework/Versions/3.8/lib/python3.8/site-packages/threadpoolctl.py:1214: RuntimeWarning: \n",
      "Found Intel OpenMP ('libiomp') and LLVM OpenMP ('libomp') loaded at\n",
      "the same time. Both libraries are known to be incompatible and this\n",
      "can cause random crashes or deadlocks on Linux when loaded in the\n",
      "same Python program.\n",
      "Using threadpoolctl may cause crashes or deadlocks. For more\n",
      "information and possible workarounds, please see\n",
      "    https://github.com/joblib/threadpoolctl/blob/master/multiple_openmp.md\n",
      "\n",
      "  warnings.warn(msg, RuntimeWarning)\n"
     ]
    },
    {
     "name": "stdout",
     "output_type": "stream",
     "text": [
      "              precision    recall  f1-score   support\n",
      "\n",
      "           0       0.64      0.91      0.76      1786\n",
      "           1       0.75      0.34      0.47      1371\n",
      "\n",
      "    accuracy                           0.66      3157\n",
      "   macro avg       0.70      0.63      0.61      3157\n",
      "weighted avg       0.69      0.66      0.63      3157\n",
      "\n"
     ]
    }
   ],
   "source": [
    "# Instantiate KNN here\n",
    "knn = KNeighborsClassifier(n_neighbors = 500)\n",
    "knn.fit(X_train, y_train)\n",
    "y_pred = knn.predict(X_test)\n",
    "print(classification_report(y_test, y_pred))"
   ]
  },
  {
   "cell_type": "code",
   "execution_count": 13,
   "id": "c19fcd2e-c639-4061-827d-7dd23bb5bc57",
   "metadata": {},
   "outputs": [
    {
     "ename": "NameError",
     "evalue": "name 'epochs' is not defined",
     "output_type": "error",
     "traceback": [
      "\u001b[0;31m---------------------------------------------------------------------------\u001b[0m",
      "\u001b[0;31mNameError\u001b[0m                                 Traceback (most recent call last)",
      "Cell \u001b[0;32mIn[13], line 1\u001b[0m\n\u001b[0;32m----> 1\u001b[0m plt\u001b[38;5;241m.\u001b[39mplot(\u001b[38;5;28mrange\u001b[39m(\u001b[43mepochs\u001b[49m),losses)\n\u001b[1;32m      2\u001b[0m plt\u001b[38;5;241m.\u001b[39mxlabel(\u001b[38;5;124m'\u001b[39m\u001b[38;5;124mepochs\u001b[39m\u001b[38;5;124m'\u001b[39m)\n\u001b[1;32m      3\u001b[0m plt\u001b[38;5;241m.\u001b[39mylabel(\u001b[38;5;124m'\u001b[39m\u001b[38;5;124mlosses\u001b[39m\u001b[38;5;124m'\u001b[39m)\n",
      "\u001b[0;31mNameError\u001b[0m: name 'epochs' is not defined"
     ]
    }
   ],
   "source": [
    "plt.plot(range(epochs),losses)\n",
    "plt.xlabel('epochs')\n",
    "plt.ylabel('losses')\n",
    "plt.savefig('first_training_loss_results.png', bbox_inches='tight')"
   ]
  },
  {
   "cell_type": "code",
   "execution_count": null,
   "id": "ef6a7e69-6412-4fcd-905f-74b18c6d76a8",
   "metadata": {},
   "outputs": [],
   "source": []
  }
 ],
 "metadata": {
  "kernelspec": {
   "display_name": "Python 3 (ipykernel)",
   "language": "python",
   "name": "python3"
  },
  "language_info": {
   "codemirror_mode": {
    "name": "ipython",
    "version": 3
   },
   "file_extension": ".py",
   "mimetype": "text/x-python",
   "name": "python",
   "nbconvert_exporter": "python",
   "pygments_lexer": "ipython3",
   "version": "3.8.5"
  }
 },
 "nbformat": 4,
 "nbformat_minor": 5
}
